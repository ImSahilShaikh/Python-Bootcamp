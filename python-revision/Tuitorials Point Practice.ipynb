{
 "cells": [
  {
   "cell_type": "markdown",
   "metadata": {},
   "source": [
    "# Learning Basics of Python\n",
    "### Remember Just the \"BASICS!!!\""
   ]
  },
  {
   "cell_type": "markdown",
   "metadata": {},
   "source": [
    "### - **Printing in Python**"
   ]
  },
  {
   "cell_type": "code",
   "execution_count": 7,
   "metadata": {},
   "outputs": [
    {
     "name": "stdout",
     "output_type": "stream",
     "text": [
      "Lets Revise Basic Python ASAP\n"
     ]
    }
   ],
   "source": [
    "print(\"Lets Revise Basic Python ASAP\")"
   ]
  },
  {
   "cell_type": "markdown",
   "metadata": {},
   "source": [
    "### - **If Else Example**"
   ]
  },
  {
   "cell_type": "code",
   "execution_count": 8,
   "metadata": {},
   "outputs": [
    {
     "name": "stdout",
     "output_type": "stream",
     "text": [
      "False\n"
     ]
    }
   ],
   "source": [
    "a=1\n",
    "b=2\n",
    "if a+b==1:\n",
    "    print (\"True\")\n",
    "else:\n",
    "    print (\"False\")"
   ]
  },
  {
   "cell_type": "markdown",
   "metadata": {},
   "source": [
    "#### - **Line Continuation : \\ can be used to continue a code line**"
   ]
  },
  {
   "cell_type": "code",
   "execution_count": 12,
   "metadata": {},
   "outputs": [
    {
     "name": "stdout",
     "output_type": "stream",
     "text": [
      "6\n"
     ]
    }
   ],
   "source": [
    "a = 1+\\\n",
    "2+\\\n",
    "3\n",
    "print(a)"
   ]
  },
  {
   "cell_type": "markdown",
   "metadata": {},
   "source": [
    "- **Python allows to use a string in following formats**"
   ]
  },
  {
   "cell_type": "code",
   "execution_count": 15,
   "metadata": {},
   "outputs": [
    {
     "name": "stdout",
     "output_type": "stream",
     "text": [
      "This is a string\n",
      "This is also a string\n",
      "Even This Dont make any difference\n"
     ]
    }
   ],
   "source": [
    "print('This is a string')\n",
    "print(\"This is also a string\")\n",
    "print(\"\"\"Even This Dont make any difference\"\"\")"
   ]
  },
  {
   "cell_type": "markdown",
   "metadata": {},
   "source": [
    "- **Comments in Python**"
   ]
  },
  {
   "cell_type": "code",
   "execution_count": 18,
   "metadata": {},
   "outputs": [],
   "source": [
    "#This is a comment and hence it won't get interpreted\n",
    "#Multiline comments are not possible in Python\n",
    "#But Wait there is a hack to use multiline comment in Python which is in next cell"
   ]
  },
  {
   "cell_type": "code",
   "execution_count": 20,
   "metadata": {},
   "outputs": [
    {
     "data": {
      "text/plain": [
       "'\\nTriple Quoted String is ignored by the Python interpreter and hence it can be a hack or way to use multiline comments in Python\\n'"
      ]
     },
     "execution_count": 20,
     "metadata": {},
     "output_type": "execute_result"
    }
   ],
   "source": [
    "'''\n",
    "Triple Quoted String is ignored by the Python interpreter and hence it can be a hack or way to use multiline comments in Python\n",
    "'''\n",
    "#pretty unsure about this as many websites says this is not the correct way so stick to using '#'"
   ]
  },
  {
   "cell_type": "markdown",
   "metadata": {},
   "source": [
    "- **You can use Semicolon to write multiple statements or lines of code on a single line**"
   ]
  },
  {
   "cell_type": "code",
   "execution_count": 21,
   "metadata": {},
   "outputs": [
    {
     "name": "stdout",
     "output_type": "stream",
     "text": [
      "15\n"
     ]
    }
   ],
   "source": [
    "a=5;b=10;print(a+b)"
   ]
  },
  {
   "cell_type": "markdown",
   "metadata": {},
   "source": [
    "- **How to use elseif ladder in python**"
   ]
  },
  {
   "cell_type": "markdown",
   "metadata": {},
   "source": [
    "a = input()\n",
    "b = input()\n",
    "if a+b==11:\n",
    "    print(\"If block will execute\")\n",
    "elif b==6:\n",
    "    print('Elif Block will execute')\n",
    "else:\n",
    "    print(\"Else block will execute\")"
   ]
  },
  {
   "cell_type": "markdown",
   "metadata": {},
   "source": [
    "## - Loops"
   ]
  },
  {
   "cell_type": "markdown",
   "metadata": {},
   "source": [
    "- **While Loop**"
   ]
  },
  {
   "cell_type": "code",
   "execution_count": 46,
   "metadata": {},
   "outputs": [
    {
     "name": "stdout",
     "output_type": "stream",
     "text": [
      "0\n",
      "1\n",
      "2\n",
      "3\n",
      "4\n",
      "5\n",
      "6\n",
      "7\n",
      "8\n",
      "9\n",
      "10\n"
     ]
    }
   ],
   "source": [
    "count = 0\n",
    "while(count < 11):\n",
    "    print(count)\n",
    "    count+=1\n"
   ]
  },
  {
   "cell_type": "markdown",
   "metadata": {},
   "source": [
    "- **While Else Loop**"
   ]
  },
  {
   "cell_type": "code",
   "execution_count": 48,
   "metadata": {},
   "outputs": [
    {
     "name": "stdout",
     "output_type": "stream",
     "text": [
      "Count already greater than 10\n"
     ]
    }
   ],
   "source": [
    "count = 11\n",
    "while(count < 11):\n",
    "    print(count)\n",
    "    count+=1\n",
    "else:\n",
    "    print(\"Count already greater than 10\")"
   ]
  },
  {
   "cell_type": "markdown",
   "metadata": {},
   "source": [
    "- **For Loop** <br>\n",
    "we can use range function in for loop in order to iterate"
   ]
  },
  {
   "cell_type": "code",
   "execution_count": 54,
   "metadata": {},
   "outputs": [
    {
     "name": "stdout",
     "output_type": "stream",
     "text": [
      "0\n",
      "1\n",
      "2\n",
      "3\n",
      "4\n"
     ]
    }
   ],
   "source": [
    "for var in range(0,5):\n",
    "    print(var)"
   ]
  },
  {
   "cell_type": "code",
   "execution_count": 55,
   "metadata": {},
   "outputs": [
    {
     "name": "stdout",
     "output_type": "stream",
     "text": [
      "S\n",
      "a\n",
      "h\n",
      "i\n",
      "l\n"
     ]
    }
   ],
   "source": [
    "for i in 'Sahil':\n",
    "    print(i)"
   ]
  },
  {
   "cell_type": "markdown",
   "metadata": {},
   "source": [
    "- **for else loop**"
   ]
  },
  {
   "cell_type": "code",
   "execution_count": 62,
   "metadata": {},
   "outputs": [
    {
     "name": "stdout",
     "output_type": "stream",
     "text": [
      "No hey 7\n"
     ]
    }
   ],
   "source": [
    "nums = (1,3,5,7)\n",
    "for i in nums:\n",
    "    if i%2 == 0:\n",
    "        print(\"Hey\" ,i)\n",
    "else:\n",
    "    print(\"No hey\",i)"
   ]
  },
  {
   "cell_type": "markdown",
   "metadata": {},
   "source": [
    "### - **Command Line arguments in Python**"
   ]
  },
  {
   "cell_type": "markdown",
   "metadata": {},
   "source": [
    "Commandline arguments in Python are allowed by using it in the terminal *python -h*"
   ]
  },
  {
   "cell_type": "markdown",
   "metadata": {},
   "source": [
    "## - **Assignment in Python**"
   ]
  },
  {
   "cell_type": "code",
   "execution_count": 31,
   "metadata": {},
   "outputs": [
    {
     "name": "stdout",
     "output_type": "stream",
     "text": [
      "1 1 1\n",
      "1 2 Sahil\n"
     ]
    }
   ],
   "source": [
    "z = 10 # normal assignment of a value to a variable\n",
    "#short hand increment is available i.e a+=10\n",
    "# Now Assigning single value to Multiple variables \n",
    "\n",
    "a = b = c = 1\n",
    "print (a,b,c)\n",
    "\n",
    "# Assigning multiple values to multiple variable\n",
    "\n",
    "d,e,f = 1 , 2 , \"Sahil\"\n",
    "print(d,e,f)\n"
   ]
  },
  {
   "cell_type": "markdown",
   "metadata": {},
   "source": [
    "## - __Python Numbers__  <br> <br>\n",
    "Lets not waste much time here<br>\n",
    "Python has basically three types of the numerical data types<br>\n",
    "1) Integers(signed) <br>\n",
    "2) Float (Floating point real value) <br>\n",
    "3) Complex (Complex Numbers)"
   ]
  },
  {
   "cell_type": "markdown",
   "metadata": {},
   "source": [
    "## - **Strings in Python** <br>\n",
    "### Remember that __+__ is concatenation operator and __*__ is repitition operator"
   ]
  },
  {
   "cell_type": "code",
   "execution_count": 13,
   "metadata": {},
   "outputs": [
    {
     "name": "stdout",
     "output_type": "stream",
     "text": [
      "Hello World\n",
      "H\n",
      "llo\n",
      "o World\n",
      "Hello WorldHello World\n",
      "Hello World Sahil\n",
      "\\n\n",
      "\n",
      "\n",
      "\\n\n"
     ]
    }
   ],
   "source": [
    "str = 'Hello World'\n",
    "\n",
    "print(str)          # printing whole string\n",
    "print(str[0])       # accessing the first element of the string str just like accessing a character array in C ***known as slice\n",
    "print(str[2:5])     # print the string from 3rd character to 5th character i.e prints from given range ***Range slice\n",
    "print(str[4:])      # print the string from 5th character ***Range slice variation\n",
    "print(str * 2)      # print the string twice i.e mentioned number of times\n",
    "print(str+\" Sahil\") # print the string concatenated with string given string\n",
    "print(r'\\n')\n",
    "print(\"\\n\")\n",
    "print(R'\\n')"
   ]
  },
  {
   "cell_type": "markdown",
   "metadata": {},
   "source": [
    "- **String Formatting in Python** <br>\n",
    "use the same formatters as of used in other programming languages"
   ]
  },
  {
   "cell_type": "code",
   "execution_count": 16,
   "metadata": {},
   "outputs": [
    {
     "name": "stdout",
     "output_type": "stream",
     "text": [
      "My name is Sahil and age is 21\n"
     ]
    }
   ],
   "source": [
    "print(\"My name is %s and age is %d\" % (\"Sahil\",21))"
   ]
  },
  {
   "cell_type": "markdown",
   "metadata": {},
   "source": [
    "- **Built-in String Methods in Python** <br>"
   ]
  },
  {
   "cell_type": "code",
   "execution_count": 52,
   "metadata": {},
   "outputs": [
    {
     "name": "stdout",
     "output_type": "stream",
     "text": [
      "Sahil\n",
      "0\n",
      "5\n",
      "SAHIL\n",
      "s\n",
      "a\n",
      "TEST\n",
      "     TEST\n",
      "test\n",
      "Sahil\n",
      "sAhil\n"
     ]
    }
   ],
   "source": [
    "string = \"sahil\"\n",
    "print(string.capitalize()) # capitalize() used to capitalize the first letter of the string\n",
    "print(string.find(\"sahil\"))\n",
    "print(len(string))\n",
    "print(string.upper())\n",
    "print(max(string)) #max(string) Returns the max alphabetical character from the string str.\n",
    "print(min(string)) #min(string) Returns the min alphabetical character from the string str.\n",
    "s1 = \"     TEST    \"\n",
    "print(s1.strip()) #performs both lstrip and rstrip\n",
    "print(s1.rstrip()) #remove whitespaces from right side of the string\n",
    "print(s1.swapcase().strip()) #Inverts case for all letters in string.\n",
    "print(string.title()) #converts to titlecase\n",
    "print(string.replace('a','A'))"
   ]
  },
  {
   "cell_type": "markdown",
   "metadata": {},
   "source": [
    "## - __List's in Python__"
   ]
  },
  {
   "cell_type": "markdown",
   "metadata": {},
   "source": [
    "List is similar to array in C. Just the difference is it can contain __different data types__"
   ]
  },
  {
   "cell_type": "code",
   "execution_count": 54,
   "metadata": {},
   "outputs": [
    {
     "name": "stdout",
     "output_type": "stream",
     "text": [
      "['abcd', 123, 3.14, 'Hello']\n",
      "abcd\n",
      "[123, 3.14]\n",
      "[3.14, 'Hello']\n",
      "['abcd', 123, 3.14, 'Hello', 'abcd', 123, 3.14, 'Hello']\n",
      "['abcd', 123, 3.14, 'Hello', 'Sahil', 33364]\n",
      "['Sahil', 333644]\n",
      "['Sahil']\n"
     ]
    }
   ],
   "source": [
    "list1 = ['abcd',123,3.14,\"Hello\"]\n",
    "list2 = [\"Sahil\",33364]\n",
    "\n",
    "print(list1)          # prints the whole list \n",
    "print(list1[0])       # prints the first element from the list\n",
    "print(list1[1:3])     # prints the list from second element to third element\n",
    "print(list1[2:])      # prints the list from third item\n",
    "print(list1 * 2)      # prints the list for specified numbers of times\n",
    "print(list1+list2)    # concatenates list1 and list2\n",
    "list2[1]=333644       # updating the list\n",
    "print(list2)\n",
    "del list2[1]          #del statement is used to delete a item from the list\n",
    "print(list2)"
   ]
  },
  {
   "cell_type": "markdown",
   "metadata": {},
   "source": [
    "- **Built-in List Functions in Python** <br>"
   ]
  },
  {
   "cell_type": "code",
   "execution_count": 65,
   "metadata": {},
   "outputs": [
    {
     "name": "stdout",
     "output_type": "stream",
     "text": [
      "[12, 123.123, 123123, 373737]\n",
      "4\n",
      "12\n"
     ]
    }
   ],
   "source": [
    "list = [12,123.123,123123,373737]\n",
    "print(list)\n",
    "print(len(list))   # len() prints the length of the list\n",
    "print(min(list))   # min() returns the min value from the list and max does opposite of it"
   ]
  },
  {
   "cell_type": "markdown",
   "metadata": {},
   "source": [
    "- **Built-in List Methods in Python** <br>"
   ]
  },
  {
   "cell_type": "code",
   "execution_count": 15,
   "metadata": {},
   "outputs": [
    {
     "name": "stdout",
     "output_type": "stream",
     "text": [
      "['abcd', 123, 3.14, 'Hello', 33364]\n",
      "1\n",
      "0\n",
      "[33364, 'Hello', 3.14, 123, 'abcd']\n"
     ]
    }
   ],
   "source": [
    "list1 = ['abcd',123,3.14,\"Hello\"]\n",
    "list2 = [1,2,3,4,5]\n",
    "list1.append(33364)         # append(object) is used to append the object passed as parameter\n",
    "print(list1)\n",
    "print(list1.count(33364))   # prints the number of occurrences of object in the list\n",
    "print(list1.index('abcd'))  # prints the index of the first occurrence of passed object\n",
    "list1.reverse()             # reverses the list\n",
    "print(list1)"
   ]
  },
  {
   "cell_type": "markdown",
   "metadata": {},
   "source": [
    "## - Tuples in Python\n",
    "### Lists -> mutable Tuples -> Immutable\n",
    "### Lists -> [ ] Tuples -> ( )"
   ]
  },
  {
   "cell_type": "code",
   "execution_count": 18,
   "metadata": {},
   "outputs": [
    {
     "name": "stdout",
     "output_type": "stream",
     "text": [
      "('Sahil', 33364, 1.123, 'Hello')\n"
     ]
    }
   ],
   "source": [
    "tuple = ('Sahil', 33364, 1.123, \"Hello\")\n",
    "print(tuple)"
   ]
  },
  {
   "cell_type": "markdown",
   "metadata": {},
   "source": [
    "- **Accessing Tuples**"
   ]
  },
  {
   "cell_type": "code",
   "execution_count": 43,
   "metadata": {},
   "outputs": [
    {
     "name": "stdout",
     "output_type": "stream",
     "text": [
      "Sahil\n",
      "(33364, 1.123)\n",
      "(33364, 1.123, 'Hello')\n",
      "Hello\n"
     ]
    }
   ],
   "source": [
    "tuple = ('Sahil', 33364, 1.123, \"Hello\")\n",
    "print(tuple[0])     #ACCESSING BY INDEX\n",
    "print(tuple[1:3])   #SLICING\n",
    "print(tuple[1:])\n",
    "print(tuple[-1])"
   ]
  },
  {
   "cell_type": "markdown",
   "metadata": {},
   "source": [
    "- **Tuples are immutable but we can take portions of them to create a new tuple**"
   ]
  },
  {
   "cell_type": "code",
   "execution_count": 30,
   "metadata": {},
   "outputs": [
    {
     "name": "stdout",
     "output_type": "stream",
     "text": [
      "(1, 2, 3, 4, 5)\n",
      "3\n"
     ]
    }
   ],
   "source": [
    "tuple1 = (1,2,3)\n",
    "tuple2 = (4,5)\n",
    "print(tuple1+tuple2)\n",
    "\n",
    "# deleting individual item in a tuple isnt possible but we can delete the whole tuple using del command\n",
    "del tuple1"
   ]
  },
  {
   "cell_type": "markdown",
   "metadata": {},
   "source": [
    "- **Built-in Tuple Functions**"
   ]
  },
  {
   "cell_type": "code",
   "execution_count": 39,
   "metadata": {},
   "outputs": [
    {
     "name": "stdout",
     "output_type": "stream",
     "text": [
      "4\n",
      "(1, 2, 3, 4, 1, 2, 3, 4)\n",
      "True\n"
     ]
    }
   ],
   "source": [
    "tuple =(1,2,3,4) \n",
    "\n",
    "print(len(tuple))  # prints the length of the tuole\n",
    "print(tuple * 2)   # repitition and concatenation is allowed in tuples\n",
    "print(6 not in tuple) # membership operations"
   ]
  },
  {
   "cell_type": "markdown",
   "metadata": {},
   "source": [
    "## - Dictionary "
   ]
  },
  {
   "cell_type": "markdown",
   "metadata": {},
   "source": [
    "Each key is separated from its value by a colon (:), the items are separated by commas, and it is enclosed in curly braces. Keys are unique within a dictionary while values may not be."
   ]
  },
  {
   "cell_type": "code",
   "execution_count": 79,
   "metadata": {},
   "outputs": [
    {
     "name": "stdout",
     "output_type": "stream",
     "text": [
      "{'Name': 'Sahil', 'Age': 21, 'Rollno': 33364}\n",
      "Sahil\n",
      "{'Name': 'Sahil', 'Age': 22, 'Rollno': 33364, 'Class': 'TE-11'}\n",
      "{'Name': 'Sahil', 'Rollno': 33364, 'Class': 'TE-11'}\n",
      "{}\n",
      "<class 'dict'>\n"
     ]
    }
   ],
   "source": [
    "dict = {'Name':\"Sahil\",'Age':21, 'Rollno':33364}\n",
    "print(dict)\n",
    "print(dict['Name'])  # accessing dictionary by key\n",
    "dict['Age']=22       # updating dictionary value\n",
    "dict['Class']='TE-11'# adding new key\n",
    "print(dict)\n",
    "del dict['Age']      # deleting a key and corresponding value\n",
    "print(dict)\n",
    "dict.clear()         # clears all elements from the dictionary\n",
    "print(dict)\n",
    "del dict             # delete whole dictionary\n",
    "print(dict)"
   ]
  },
  {
   "cell_type": "markdown",
   "metadata": {},
   "source": [
    "## - Funtions"
   ]
  },
  {
   "cell_type": "markdown",
   "metadata": {},
   "source": [
    "- **declaring and calling a function** <br>\n"
   ]
  },
  {
   "cell_type": "code",
   "execution_count": 82,
   "metadata": {},
   "outputs": [
    {
     "name": "stdout",
     "output_type": "stream",
     "text": [
      "This is intend to be printed : SAHIL\n"
     ]
    }
   ],
   "source": [
    "#function declaration\n",
    "def print_str(string):\n",
    "    print(\"This is intend to be printed :\", string)\n",
    "    return\n",
    "#function call\n",
    "print_str(\"SAHIL\")"
   ]
  },
  {
   "cell_type": "code",
   "execution_count": 83,
   "metadata": {},
   "outputs": [
    {
     "name": "stdout",
     "output_type": "stream",
     "text": [
      "3\n"
     ]
    }
   ],
   "source": [
    "def sum(x,y):\n",
    "    print(x+y)\n",
    "sum(1,2)"
   ]
  },
  {
   "cell_type": "markdown",
   "metadata": {},
   "source": [
    "### **Lambda(Anonymous) Functions** <br>\n",
    "- These functions are called anonymous because they are not declared in the standard manner by using the def keyword. You can use the lambda keyword to create small anonymous functions.\n",
    "- They are one line functions without standard format\n",
    "- They cannot be called directly since they require expression to evaluate"
   ]
  },
  {
   "cell_type": "code",
   "execution_count": 84,
   "metadata": {},
   "outputs": [
    {
     "name": "stdout",
     "output_type": "stream",
     "text": [
      "This is the multiplication 4\n"
     ]
    }
   ],
   "source": [
    "mult = lambda arg1,arg2 : arg1 * arg2\n",
    "\n",
    "print(\"This is the multiplication\",mult(2,2))"
   ]
  },
  {
   "cell_type": "code",
   "execution_count": null,
   "metadata": {},
   "outputs": [],
   "source": []
  }
 ],
 "metadata": {
  "kernelspec": {
   "display_name": "Python 3",
   "language": "python",
   "name": "python3"
  },
  "language_info": {
   "codemirror_mode": {
    "name": "ipython",
    "version": 3
   },
   "file_extension": ".py",
   "mimetype": "text/x-python",
   "name": "python",
   "nbconvert_exporter": "python",
   "pygments_lexer": "ipython3",
   "version": "3.7.4"
  }
 },
 "nbformat": 4,
 "nbformat_minor": 2
}
